{
 "cells": [
  {
   "cell_type": "markdown",
   "metadata": {},
   "source": [
    "# TESScut and ExoMAST: Working with TESS Time Series Data\n",
    "\n",
    "Learn about MAST's programmatic tools for accessing TESS time series data while exploring weird looking light curves.  This tutorial will show users how to follow up on unusual TCE results using the MAST API in Python to access and view TESS time series and FFI data.\n",
    "\n",
    "Topics to be covered include:\n",
    "- Using the MAST API to get data validation time series\n",
    "- Plotting TESS light curves in Python\n",
    "- Using the MAST API to make an FFI cutout\n",
    "- Creating a movie of TPF frames in Python"
   ]
  },
  {
   "cell_type": "code",
   "execution_count": null,
   "metadata": {},
   "outputs": [],
   "source": []
  }
 ],
 "metadata": {
  "kernelspec": {
   "display_name": "Python 3",
   "language": "python",
   "name": "python3"
  },
  "language_info": {
   "codemirror_mode": {
    "name": "ipython",
    "version": 3
   },
   "file_extension": ".py",
   "mimetype": "text/x-python",
   "name": "python",
   "nbconvert_exporter": "python",
   "pygments_lexer": "ipython3",
   "version": "3.6.8"
  }
 },
 "nbformat": 4,
 "nbformat_minor": 2
}
